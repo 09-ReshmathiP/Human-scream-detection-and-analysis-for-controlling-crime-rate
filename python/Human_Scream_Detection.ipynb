{
  "nbformat": 4,
  "nbformat_minor": 0,
  "metadata": {
    "colab": {
      "provenance": []
    },
    "kernelspec": {
      "name": "python3",
      "display_name": "Python 3"
    },
    "language_info": {
      "name": "python"
    }
  },
  "cells": [
    {
      "cell_type": "code",
      "source": [
        "from google.colab import drive\n",
        "drive.mount('/content/drive')"
      ],
      "metadata": {
        "colab": {
          "base_uri": "https://localhost:8080/"
        },
        "id": "mTwgAHPDMkE5",
        "outputId": "072e87c1-8947-4cdb-abdf-cd1513623eb0"
      },
      "execution_count": 5,
      "outputs": [
        {
          "output_type": "stream",
          "name": "stdout",
          "text": [
            "Drive already mounted at /content/drive; to attempt to forcibly remount, call drive.mount(\"/content/drive\", force_remount=True).\n"
          ]
        }
      ]
    },
    {
      "cell_type": "code",
      "execution_count": 7,
      "metadata": {
        "colab": {
          "base_uri": "https://localhost:8080/"
        },
        "id": "VCGpo2bGMiCa",
        "outputId": "54ca2280-9a6d-401b-b435-5690d8b91342"
      },
      "outputs": [
        {
          "output_type": "stream",
          "name": "stdout",
          "text": [
            "Potential scream detected. Crime analysis and intervention required.\n"
          ]
        }
      ],
      "source": [
        "import librosa\n",
        "import numpy as np\n",
        "\n",
        "def extract_features(url=\"/content/drive/MyDrive/MATHI/audio.wav\"):\n",
        "    y, sr = librosa.load(\"/content/drive/MyDrive/MATHI/audio.wav\", sr=None)\n",
        "    mfccs = librosa.feature.mfcc(y=y, sr=sr, n_mfcc=13)\n",
        "    chroma = librosa.feature.chroma_stft(y=y, sr=sr)\n",
        "    mel = librosa.feature.melspectrogram(y=y, sr=sr)\n",
        "    spectral_centroid = librosa.feature.spectral_centroid(y=y, sr=sr)\n",
        "\n",
        "    features = np.concatenate([mfccs.mean(axis=1), chroma.mean(axis=1), mel.mean(axis=1), np.mean(spectral_centroid, axis=1)])\n",
        "    return features\n",
        "\n",
        "def detect_scream(features):\n",
        "\n",
        "    threshold = 0.5\n",
        "    scream_probability = sum(features) / len(features)\n",
        "\n",
        "    if scream_probability > threshold:\n",
        "        return True\n",
        "    else:\n",
        "        return False\n",
        "\n",
        "def analyze_scream(scream_detected):\n",
        "    if scream_detected:\n",
        "        print(\"Potential scream detected. Crime analysis and intervention required.\")\n",
        "    else:\n",
        "        print(\"No scream detected. No immediate action required.\")\n",
        "\n",
        "if __name__ == \"__main__\":\n",
        "    audio_path =\"/content/drive/MyDrive/MATHI/audio.wav\"\n",
        "    audio_features = extract_features(audio_path)\n",
        "    scream_detected = detect_scream(audio_features)\n",
        "    analyze_scream(scream_detected)"
      ]
    }
  ]
}